{
 "cells": [
  {
   "cell_type": "code",
   "execution_count": null,
   "metadata": {
    "collapsed": true
   },
   "outputs": [],
   "source": [
    "\"\"\"Example usage of the 'llm' module to create a personalized chatbot.\"\"\"\n",
    "\n",
    "from llm import get_chat_completion, Message\n",
    "from loguru import logger"
   ]
  },
  {
   "cell_type": "code",
   "execution_count": null,
   "outputs": [],
   "source": [
    "who = input(\"Who do you want to chat with?\")\n",
    "messages = [\n",
    "    Message(\n",
    "        role=\"system\",\n",
    "        content=f\"You are a chatbot impersonating {who}. \"\n",
    "        f\"You remain in character at all times, not breaking immersion.\",\n",
    "    ),\n",
    "    Message(\n",
    "        role=\"assistant\",\n",
    "        content=\"I will initiate the conversation by greeting the user in a \"\n",
    "        \"suitable, character-specific way.\",\n",
    "    ),\n",
    "]"
   ],
   "metadata": {
    "collapsed": false
   }
  },
  {
   "cell_type": "code",
   "execution_count": null,
   "outputs": [],
   "source": [
    "while True:\n",
    "    # main loop: get answer from model, ask user for reply, repeat.\n",
    "    completion = get_chat_completion(\n",
    "        messages, model=\"gpt-35-turbo-16k\", max_tokens=1024\n",
    "    )\n",
    "    logger.info(\"\\n\" + completion.choices[0].message.content)\n",
    "    messages.append(\n",
    "        Message(\n",
    "            role=completion.choices[0].message.role,\n",
    "            content=completion.choices[0].message.content,\n",
    "        )\n",
    "    )\n",
    "    messages.append(Message(role=\"user\", content=input(\"You: \")))\n",
    "\n",
    "    # open question: how can you make sure the model doesn't run out of context\n",
    "    # when the chat history grows, with the `messages` object having too much info?\n",
    "    ..."
   ],
   "metadata": {
    "collapsed": false
   }
  }
 ],
 "metadata": {
  "kernelspec": {
   "display_name": "Python 3",
   "language": "python",
   "name": "python3"
  },
  "language_info": {
   "codemirror_mode": {
    "name": "ipython",
    "version": 2
   },
   "file_extension": ".py",
   "mimetype": "text/x-python",
   "name": "python",
   "nbconvert_exporter": "python",
   "pygments_lexer": "ipython2",
   "version": "2.7.6"
  }
 },
 "nbformat": 4,
 "nbformat_minor": 0
}
